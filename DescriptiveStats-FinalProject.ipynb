{
 "cells": [
  {
   "cell_type": "markdown",
   "metadata": {},
   "source": [
    "## Intro to Descriptive Statistics - Final Project\n",
    "\n",
    "<p>Welcome! This is my final project report for Udacity's [Intro to Descriptive Statistics](https://www.udacity.com/course/intro-to-descriptive-statistics--ud827) class.</p>"
   ]
  },
  {
   "cell_type": "markdown",
   "metadata": {},
   "source": [
    "### Playing cards experiment"
   ]
  },
  {
   "cell_type": "markdown",
   "metadata": {},
   "source": [
    "For the final project, we are asked to conduct an experiment with a deck of playing cards. We assign each card a particular value, take samples from the deck and describe the distribution of the sample sums using visualizations and descriptive statistics.  \n",
    "For more information, check out the [project description](https://docs.google.com/document/d/1059JMJ9C5dn7vKUrmfWYle57Ai3Uk9PzxPQBGj5drjE/pub) and [project rubric](https://docs.google.com/document/d/1gVCBsThTXBkUtMiccc4Rj5XT8I9h4ji0bpqTe2uUxRg/pub)."
   ]
  },
  {
   "cell_type": "markdown",
   "metadata": {},
   "source": [
    "### Tasks"
   ]
  },
  {
   "cell_type": "markdown",
   "metadata": {},
   "source": [
    "The experiment requires the use of a standard deck of playing cards. This is a deck of 52 cards divided into four suits (spades, hearts, diamonds, and clubs), each suit containing thirteen cards (Ace, numbers 2-10, and face cards Jack, Queen, and King).  \n",
    "\n",
    "The numbered cards are assigned the same value, \"Ace\" card takes the value of 1 and face cards are assigned the value of 10. "
   ]
  },
  {
   "cell_type": "markdown",
   "metadata": {},
   "source": [
    "#### Simulating the deck of cards"
   ]
  },
  {
   "cell_type": "code",
   "execution_count": 2,
   "metadata": {
    "collapsed": false
   },
   "outputs": [
    {
     "data": {
      "text/html": [
       "<div>\n",
       "<table border=\"1\" class=\"dataframe\">\n",
       "  <thead>\n",
       "    <tr style=\"text-align: right;\">\n",
       "      <th></th>\n",
       "      <th>Card Value</th>\n",
       "      <th>Suit</th>\n",
       "      <th>Label</th>\n",
       "    </tr>\n",
       "  </thead>\n",
       "  <tbody>\n",
       "    <tr>\n",
       "      <th>0</th>\n",
       "      <td>1</td>\n",
       "      <td>Spade</td>\n",
       "      <td>Ace</td>\n",
       "    </tr>\n",
       "    <tr>\n",
       "      <th>1</th>\n",
       "      <td>2</td>\n",
       "      <td>Diamond</td>\n",
       "      <td>Two</td>\n",
       "    </tr>\n",
       "    <tr>\n",
       "      <th>2</th>\n",
       "      <td>3</td>\n",
       "      <td>Heart</td>\n",
       "      <td>Three</td>\n",
       "    </tr>\n",
       "    <tr>\n",
       "      <th>3</th>\n",
       "      <td>4</td>\n",
       "      <td>Club</td>\n",
       "      <td>Four</td>\n",
       "    </tr>\n",
       "    <tr>\n",
       "      <th>4</th>\n",
       "      <td>5</td>\n",
       "      <td>Spade</td>\n",
       "      <td>Five</td>\n",
       "    </tr>\n",
       "  </tbody>\n",
       "</table>\n",
       "</div>"
      ],
      "text/plain": [
       "  Card Value     Suit  Label\n",
       "0          1    Spade    Ace\n",
       "1          2  Diamond    Two\n",
       "2          3    Heart  Three\n",
       "3          4     Club   Four\n",
       "4          5    Spade   Five"
      ]
     },
     "execution_count": 2,
     "metadata": {},
     "output_type": "execute_result"
    }
   ],
   "source": [
    "import numpy as np\n",
    "import pandas as pd\n",
    "\n",
    "# Create a deck of cards\n",
    "\n",
    "value = list(range(1, 10) + [10] * 4) * 4\n",
    "suits = list(['Spade', 'Diamond', 'Heart', 'Club']) * 13\n",
    "labels = list(['Ace', 'Two', 'Three', 'Four', 'Five', 'Six', 'Seven', 'Eight', 'Nine', 'Ten', 'Jack', 'Queen', 'King']) * 4\n",
    "\n",
    "deck = pd.DataFrame([value, suits, labels]).transpose()\n",
    "deck.columns = ['Card Value', 'Suit', 'Label']\n",
    "\n",
    "# Print some of the cards\n",
    "deck.head()"
   ]
  },
  {
   "cell_type": "markdown",
   "metadata": {},
   "source": [
    "#### Task 1. Histogram of card values\n",
    "<i>First, create a histogram depicting the relative frequencies of the card values.</i>"
   ]
  },
  {
   "cell_type": "code",
   "execution_count": 3,
   "metadata": {
    "collapsed": false
   },
   "outputs": [
    {
     "data": {
      "text/plain": [
       "<matplotlib.table.Table at 0x9560430>"
      ]
     },
     "execution_count": 3,
     "metadata": {},
     "output_type": "execute_result"
    },
    {
     "data": {
      "image/png": "[encoded data removed]",
      "text/plain": [
       "<matplotlib.figure.Figure at 0x94d9790>"
      ]
     },
     "metadata": {},
     "output_type": "display_data"
    }
   ],
   "source": [
    "# Histogram of relative frequencies\n",
    "\n",
    "import seaborn as sns\n",
    "import matplotlib.pyplot as plt\n",
    "\n",
    "%matplotlib inline\n",
    "\n",
    "sns.set(font_scale = 1.4, palette='colorblind')\n",
    "\n",
    "ax = deck['Card Value'].hist(bins = 10, normed = True, edgecolor = 'black', alpha = 0.5)\n",
    "ax.set(ylabel=\"Relative Frequency\", xlabel=\"Card Value\", title=\"Histogram of card values in the deck\")\n",
    "\n",
    "\n",
    "row_labels = ['Mean', 'Median', 'Mode']\n",
    "\n",
    "clust_data = [round(deck['Card Value'].mean(), 2), \n",
    "              deck['Card Value'].median(), \n",
    "              deck['Card Value'].mode()[0]]\n",
    "\n",
    "\n",
    "ax.table(cellText=np.reshape(clust_data, (3,1)),\n",
    "         colLabels = ['Card Value'], \n",
    "         rowLabels=row_labels, \n",
    "         loc = 'right', \n",
    "         colWidths=[.5,.5], bbox=[1.2, 0, 0.5, 0.5])"
   ]
  },
  {
   "cell_type": "markdown",
   "metadata": {},
   "source": [
    "Looking at above histogram, we can see that the card value distribution would have been uniform if not for the peak. This is because the face cards have all been assigned the value 10. Instead we have a distribution that has a long left tail and the mean is to the left of the peak. This type of distribution is called <b>negatively skewed</b> or <b>left skewed</b> distribution.  "
   ]
  },
  {
   "cell_type": "markdown",
   "metadata": {},
   "source": [
    "#### Task 2. Draw samples from the deck\n",
    "<i>Now, we will get samples for a new distribution. To obtain a single sample, shuffle your deck of cards and draw three cards from it. (You will be sampling from the deck without replacement.) Record the cards that you have drawn and the sum of the three cards' values. Replace the drawn cards back into the deck and repeat this sampling procedure a total of at least thirty times.</i>"
   ]
  },
  {
   "cell_type": "code",
   "execution_count": 4,
   "metadata": {
    "collapsed": false
   },
   "outputs": [],
   "source": [
    "# Take a sample of size = 3 and return a list with card values and their sum\n",
    "\n",
    "import random\n",
    "random.seed(100)\n",
    "\n",
    "def getSample(df):\n",
    "    fd = df.loc[random.sample(df.index, 3)]\n",
    "    lst = ((fd.Label + ' of ' + fd.Suit).values).tolist()\n",
    "    lst.append(fd['Card Value'].sum())\n",
    "    return lst"
   ]
  },
  {
   "cell_type": "code",
   "execution_count": 5,
   "metadata": {
    "collapsed": false
   },
   "outputs": [
    {
     "name": "stdout",
     "output_type": "stream",
     "text": [
      "['Eight of Club', 'Jack of Club', 'Two of Spade', 20]\n"
     ]
    }
   ],
   "source": [
    "# Take a single sample and print the sum of card values\n",
    "\n",
    "single_sample = getSample(deck)\n",
    "print single_sample"
   ]
  },
  {
   "cell_type": "code",
   "execution_count": 6,
   "metadata": {
    "collapsed": false
   },
   "outputs": [
    {
     "data": {
      "text/html": [
       "<div>\n",
       "<table border=\"1\" class=\"dataframe\">\n",
       "  <thead>\n",
       "    <tr style=\"text-align: right;\">\n",
       "      <th></th>\n",
       "      <th>Card1</th>\n",
       "      <th>Card2</th>\n",
       "      <th>Card3</th>\n",
       "      <th>CardSum</th>\n",
       "    </tr>\n",
       "  </thead>\n",
       "  <tbody>\n",
       "    <tr>\n",
       "      <th>0</th>\n",
       "      <td>Jack of Spade</td>\n",
       "      <td>King of Heart</td>\n",
       "      <td>Ten of Heart</td>\n",
       "      <td>30.0</td>\n",
       "    </tr>\n",
       "    <tr>\n",
       "      <th>1</th>\n",
       "      <td>Three of Diamond</td>\n",
       "      <td>Two of Club</td>\n",
       "      <td>Five of Spade</td>\n",
       "      <td>10.0</td>\n",
       "    </tr>\n",
       "    <tr>\n",
       "      <th>2</th>\n",
       "      <td>Jack of Club</td>\n",
       "      <td>Three of Heart</td>\n",
       "      <td>Ten of Spade</td>\n",
       "      <td>23.0</td>\n",
       "    </tr>\n",
       "    <tr>\n",
       "      <th>3</th>\n",
       "      <td>Jack of Diamond</td>\n",
       "      <td>Five of Diamond</td>\n",
       "      <td>Four of Spade</td>\n",
       "      <td>19.0</td>\n",
       "    </tr>\n",
       "    <tr>\n",
       "      <th>4</th>\n",
       "      <td>Ace of Club</td>\n",
       "      <td>Jack of Heart</td>\n",
       "      <td>Ten of Diamond</td>\n",
       "      <td>21.0</td>\n",
       "    </tr>\n",
       "  </tbody>\n",
       "</table>\n",
       "</div>"
      ],
      "text/plain": [
       "              Card1            Card2           Card3  CardSum\n",
       "0     Jack of Spade    King of Heart    Ten of Heart     30.0\n",
       "1  Three of Diamond      Two of Club   Five of Spade     10.0\n",
       "2      Jack of Club   Three of Heart    Ten of Spade     23.0\n",
       "3   Jack of Diamond  Five of Diamond   Four of Spade     19.0\n",
       "4       Ace of Club    Jack of Heart  Ten of Diamond     21.0"
      ]
     },
     "execution_count": 6,
     "metadata": {},
     "output_type": "execute_result"
    }
   ],
   "source": [
    "# Take 100 Samples and save the cards and their sum to a dataframe\n",
    "\n",
    "cols = ['Card1', 'Card2', 'Card3', 'CardSum']\n",
    "samples = pd.DataFrame(columns=cols)\n",
    "\n",
    "for i in range(100):\n",
    "    samp = getSample(deck)\n",
    "    samp = pd.DataFrame([samp], columns = cols)\n",
    "    samples = samples.append(samp, ignore_index = True)\n",
    "  \n",
    "# Print some of the samples\n",
    "\n",
    "samples.head()"
   ]
  },
  {
   "cell_type": "markdown",
   "metadata": {
    "collapsed": false
   },
   "source": [
    "#### Task 3. Report descriptive statistics of the samples\n",
    "\n",
    "<i>Let's take a look at the distribution of the card sums. Report descriptive statistics for the samples you have drawn. Include at least two measures of central tendency and two measures of variability.</i>"
   ]
  },
  {
   "cell_type": "code",
   "execution_count": 7,
   "metadata": {
    "collapsed": false
   },
   "outputs": [
    {
     "name": "stdout",
     "output_type": "stream",
     "text": [
      "-----------------------------\n",
      "Measures of central tendency\n",
      "-----------------------------\n",
      "Mean\t |\t19.37\n",
      "Median\t |\t19.0\n",
      "Mode\t |\t21.0\n",
      "\n",
      "---------------------------------------\n",
      "Measures of variability\n",
      "---------------------------------------\n",
      "Variance\t\t |\t29.75\n",
      "Standard Deviation\t |\t5.45\n",
      "IQR\t\t\t |\t8.0\n"
     ]
    }
   ],
   "source": [
    "# Reporting central tendency statistics\n",
    "\n",
    "print '-----------------------------\\nMeasures of central tendency\\n-----------------------------'\n",
    "print 'Mean\\t |\\t{0}\\nMedian\\t |\\t{1}\\nMode\\t |\\t{2}'.format(round(samples.CardSum.mean(), 2),\n",
    "                                                            samples.CardSum.median(),\n",
    "                                                            samples.CardSum.mode()[0])\n",
    "\n",
    "print '\\n---------------------------------------\\nMeasures of variability\\n---------------------------------------'\n",
    "print 'Variance\\t\\t |\\t{0}\\nStandard Deviation\\t |\\t{1}\\nIQR\\t\\t\\t |\\t{2}'.format(round(samples.CardSum.var(), 2),\n",
    "                                                            round(samples.CardSum.std(), 2),\n",
    "                                                            samples.CardSum.quantile(0.75) - samples.CardSum.quantile(0.25))"
   ]
  },
  {
   "cell_type": "markdown",
   "metadata": {
    "collapsed": true
   },
   "source": [
    "#### Task 4. Histogram of card sums\n",
    "<i>Create a histogram of the sampled card sums you have recorded. Compare its shape to that of the original distribution. How are they different, and can you explain why this is the case?\n",
    "</i>"
   ]
  },
  {
   "cell_type": "code",
   "execution_count": 8,
   "metadata": {
    "collapsed": false
   },
   "outputs": [
    {
     "data": {
      "text/plain": [
       "[<matplotlib.text.Text at 0x9675a10>,\n",
       " <matplotlib.text.Text at 0x961adf0>,\n",
       " <matplotlib.text.Text at 0x9716b10>]"
      ]
     },
     "execution_count": 8,
     "metadata": {},
     "output_type": "execute_result"
    },
    {
     "data": {
      "image/png": "[encoded data removed]",
      "text/plain": [
       "<matplotlib.figure.Figure at 0x379fe10>"
      ]
     },
     "metadata": {},
     "output_type": "display_data"
    }
   ],
   "source": [
    "# Distribution of card sums\n",
    "\n",
    "ax1 = samples.CardSum.hist(normed = True, edgecolor = 'black', alpha = 0.5, bins = 8)\n",
    "\n",
    "\n",
    "ax1.set(ylabel=\"Relative Frequency\", \n",
    "        xlabel=\"Card sums\", \n",
    "        title=\"Histogram of sampled card sums\")"
   ]
  },
  {
   "cell_type": "markdown",
   "metadata": {},
   "source": [
    "<b>Difference between the distributions:</b>\n",
    "\n",
    "The original distribution is highly skewed. The card sum distribution although a little skewed looks almost normal. \n",
    "This can be explained by the <b>Central Limit Theorem</b>: For a population of any shape, if you draw larger and larger samples and record their sums or means, the distribution of this recorded statistic approaches a normal shape with increase in sample size.\n",
    "\n",
    "This normal distribution has a mean of original mean multiplies by the sample size (3) and a standard deviation equal to original standard deviation multiplied by square root of sample size."
   ]
  },
  {
   "cell_type": "markdown",
   "metadata": {},
   "source": [
    "#### Task 5. Estimates from the samples\n",
    "<i>Make some estimates about values you will get on future draws. Within what range will you expect approximately 90% of your draw values to fall? What is the approximate probability that you will get a draw value of at least 20? Make sure you justify how you obtained your values.</i>"
   ]
  },
  {
   "cell_type": "markdown",
   "metadata": {
    "collapsed": true
   },
   "source": [
    "<b>Range for 90% values</b>: To compute the range, \n",
    "1. we use the norm.ppf function from scipy library to find the Z-score for the p-value of 0.05 and 0.95,\n",
    "2. then we compute the margin of error using the formula, $$margin = zscore * SE$$. Where SE is standard error. $$SE = \\sigma / \\sqrt{n}$$. Since our distribution is of card value sums rather than means, $$SE = (\\sigma * \\sqrt{n}) / \\sqrt{n} = \\sigma$$\n",
    "3. 90% of the values will lie in the range of mean +/- margin"
   ]
  },
  {
   "cell_type": "code",
   "execution_count": 9,
   "metadata": {
    "collapsed": false
   },
   "outputs": [
    {
     "name": "stdout",
     "output_type": "stream",
     "text": [
      "z-score for probability 0.05 = -1.64485362695\n",
      "90% of the sum of drawn cards will fall approzimately between 10.398291273 and 28.341708727\n"
     ]
    }
   ],
   "source": [
    "# Computing the range for 90% of draws card sums\n",
    "\n",
    "import scipy.stats as st\n",
    "\n",
    "zscore = st.norm.ppf(.05)\n",
    "print 'z-score for probability 0.05 = {0}'.format(zscore)\n",
    "\n",
    "margin_of_error = zscore * samples.CardSum.std()\n",
    "\n",
    "print '90% of the sum of drawn cards will fall approzimately between {0} and {1}'.format(\n",
    "    samples.CardSum.mean() + margin_of_error, \n",
    "    samples.CardSum.mean() - margin_of_error)"
   ]
  },
  {
   "cell_type": "markdown",
   "metadata": {},
   "source": [
    "<b>Probability of drawing at least 20</b>: \n",
    "1. We compute the Z-score for 20\n",
    "2. We find the p-value for the Z-value\n",
    "3. 1 - p-value, gives the aprrox. probability of drawing at least 20"
   ]
  },
  {
   "cell_type": "code",
   "execution_count": 10,
   "metadata": {
    "collapsed": false
   },
   "outputs": [
    {
     "name": "stdout",
     "output_type": "stream",
     "text": [
      "z-score for the value 20 = 0.115502834132\n",
      "Probability of drawing a sample with the card value sum at least 20 is 0.4540232871\n"
     ]
    }
   ],
   "source": [
    "# Approx. probability of drawing cards with the sum of at least 20\n",
    "\n",
    "zscore = (20 - samples.CardSum.mean()) / samples.CardSum.std()\n",
    "\n",
    "print 'z-score for the value 20 = {0}'.format(zscore)\n",
    "\n",
    "prob = 1 - st.norm.cdf(zscore)\n",
    "\n",
    "print 'Probability of drawing a sample with the card value sum at least 20 is {0}'.format(prob)"
   ]
  }
 ],
 "metadata": {
  "anaconda-cloud": {},
  "kernelspec": {
   "display_name": "Python [default]",
   "language": "python",
   "name": "python2"
  },
  "language_info": {
   "codemirror_mode": {
    "name": "ipython",
    "version": 2
   },
   "file_extension": ".py",
   "mimetype": "text/x-python",
   "name": "python",
   "nbconvert_exporter": "python",
   "pygments_lexer": "ipython2",
   "version": "2.7.12"
  }
 },
 "nbformat": 4,
 "nbformat_minor": 1
}
